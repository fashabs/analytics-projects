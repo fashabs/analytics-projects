{
 "cells": [
  {
   "cell_type": "markdown",
   "id": "c3c08756",
   "metadata": {},
   "source": [
    "#### Installing the snscrape package"
   ]
  },
  {
   "cell_type": "code",
   "execution_count": null,
   "id": "0db88d50",
   "metadata": {},
   "outputs": [],
   "source": [
    "!pip3 install git+https://github.com/JustAnotherArchivist/snscrape.git"
   ]
  },
  {
   "cell_type": "code",
   "execution_count": 2,
   "id": "32cf15de",
   "metadata": {},
   "outputs": [],
   "source": [
    "#Importing necessary library\n",
    "import snscrape.modules.twitter as sntwitter\n",
    "import pandas as pd\n",
    "from datetime import date\n",
    "import timeit"
   ]
  },
  {
   "cell_type": "code",
   "execution_count": 3,
   "id": "68e348de",
   "metadata": {},
   "outputs": [],
   "source": [
    "# Creating list to append tweet data to\n",
    "tweets_list1 = []\n",
    "\n",
    "query  = 'monkeypox OR monkey pox OR #monkeypox OR monkey-pox'\n",
    "initial_date = \"2022-09-29\"\n",
    "start_date = initial_date\n",
    "until_date = \"2022-10-01\""
   ]
  },
  {
   "cell_type": "code",
   "execution_count": 4,
   "id": "e73b4af2",
   "metadata": {},
   "outputs": [
    {
     "name": "stderr",
     "output_type": "stream",
     "text": [
      "/var/folders/8s/p2g261dd1tjdybwdlkvch4lh0000gn/T/ipykernel_11342/1259486999.py:8: FutureWarning: content is deprecated, use rawContent instead\n",
      "  tweets_list1.append([tweet.date, tweet.id, tweet.content, tweet.user.username,\n"
     ]
    },
    {
     "name": "stdout",
     "output_type": "stream",
     "text": [
      "Execution time  5.36840239  seconds\n"
     ]
    }
   ],
   "source": [
    "# Using TwitterSearchScraper to scrape data and append tweets to list\n",
    "\n",
    "start = timeit.default_timer()\n",
    "\n",
    "for i,tweet in enumerate(sntwitter.TwitterSearchScraper(f'{query} since:{initial_date} until:{until_date}').get_items()):\n",
    "    if i>100:\n",
    "        break\n",
    "    tweets_list1.append([tweet.date, tweet.id, tweet.content, tweet.user.username, \n",
    "                         tweet.likeCount, tweet.replyCount, tweet.retweetCount, \n",
    "                         tweet.lang, tweet.source, tweet.hashtags])\n",
    "    \n",
    "# Creating a dataframe from the tweets list above\n",
    "mpox_tweets = pd.DataFrame(tweets_list1, columns=['Datetime', 'Tweet Id', 'Text', 'Username', 'Like Count', 'Reply Count',\n",
    "                                                 'RetweetCount','Language', 'Source', 'Hashtags'])\n",
    "elapsed = timeit.default_timer() - start\n",
    "\n",
    "print('Execution time ', elapsed, ' seconds')"
   ]
  },
  {
   "cell_type": "markdown",
   "id": "7c5e7fb4",
   "metadata": {},
   "source": [
    "#### write dataframe into csv file"
   ]
  },
  {
   "cell_type": "code",
   "execution_count": 1,
   "id": "cff375d7",
   "metadata": {
    "scrolled": true
   },
   "outputs": [
    {
     "ename": "NameError",
     "evalue": "name 'mpox_tweets' is not defined",
     "output_type": "error",
     "traceback": [
      "\u001b[0;31m---------------------------------------------------------------------------\u001b[0m",
      "\u001b[0;31mNameError\u001b[0m                                 Traceback (most recent call last)",
      "\u001b[0;32m/var/folders/8s/p2g261dd1tjdybwdlkvch4lh0000gn/T/ipykernel_11342/2759683245.py\u001b[0m in \u001b[0;36m<module>\u001b[0;34m\u001b[0m\n\u001b[0;32m----> 1\u001b[0;31m \u001b[0mmpox_tweets\u001b[0m\u001b[0;34m.\u001b[0m\u001b[0mto_csv\u001b[0m\u001b[0;34m(\u001b[0m\u001b[0;34m'monkeypox.csv'\u001b[0m\u001b[0;34m)\u001b[0m\u001b[0;34m\u001b[0m\u001b[0;34m\u001b[0m\u001b[0m\n\u001b[0m\u001b[1;32m      2\u001b[0m \u001b[0mmpox_tweets\u001b[0m\u001b[0;34m\u001b[0m\u001b[0;34m\u001b[0m\u001b[0m\n",
      "\u001b[0;31mNameError\u001b[0m: name 'mpox_tweets' is not defined"
     ]
    }
   ],
   "source": [
    "mpox_tweets.to_csv('monkeypox.csv')\n",
    "mpox_tweets"
   ]
  },
  {
   "cell_type": "code",
   "execution_count": null,
   "id": "9c0cd801",
   "metadata": {},
   "outputs": [],
   "source": []
  }
 ],
 "metadata": {
  "kernelspec": {
   "display_name": "Python 3 (ipykernel)",
   "language": "python",
   "name": "python3"
  },
  "language_info": {
   "codemirror_mode": {
    "name": "ipython",
    "version": 3
   },
   "file_extension": ".py",
   "mimetype": "text/x-python",
   "name": "python",
   "nbconvert_exporter": "python",
   "pygments_lexer": "ipython3",
   "version": "3.9.7"
  }
 },
 "nbformat": 4,
 "nbformat_minor": 5
}
